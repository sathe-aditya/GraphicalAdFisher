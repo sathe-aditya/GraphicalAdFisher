{
 "cells": [
  {
   "cell_type": "code",
   "execution_count": null,
   "metadata": {},
   "outputs": [],
   "source": [
    "from selenium import webdriver\n",
    "from selenium.webdriver.common.action_chains import ActionChains\n",
    "from selenium.webdriver.common.keys import Keys\n",
    "import pyautogui, os, time"
   ]
  },
  {
   "cell_type": "code",
   "execution_count": null,
   "metadata": {},
   "outputs": [],
   "source": [
    "websites = {\n",
    "            'NYTimes':'https://www.nytimes.com/',\n",
    "            'BBC':'https://www.bbc.com/news',\n",
    "            'Reuters':'https://www.reuters.com/', \n",
    "            'TheGuardian':'https://www.theguardian.com/us'\n",
    "}"
   ]
  },
  {
   "cell_type": "code",
   "execution_count": null,
   "metadata": {},
   "outputs": [],
   "source": [
    "# make sure you have a chromedriver binary in the path below\n",
    "# or change the path to point it to the binary\n",
    "chromedriver = \"chromedriver/chromedriver_mac\""
   ]
  },
  {
   "cell_type": "code",
   "execution_count": null,
   "metadata": {},
   "outputs": [],
   "source": [
    "os.environ[\"webdriver.chrome.driver\"] = chromedriver"
   ]
  },
  {
   "cell_type": "code",
   "execution_count": null,
   "metadata": {},
   "outputs": [],
   "source": [
    "os.makedirs(\"Outputs\", exist_ok=True)"
   ]
  },
  {
   "cell_type": "code",
   "execution_count": null,
   "metadata": {},
   "outputs": [],
   "source": [
    "for website in websites.keys():\n",
    "    os.makedirs(\"Outputs/{}\".format(website))"
   ]
  },
  {
   "cell_type": "code",
   "execution_count": null,
   "metadata": {},
   "outputs": [],
   "source": [
    "# fetch ads for a given user \n",
    "# br: webbrowser instance\n",
    "# user: user name\n",
    "# name: website name\n",
    "# URL: website URL\n",
    "def fetch_ads(br, user, name, URL):\n",
    "    br.get(URL)\n",
    "    if name == 'BBC':\n",
    "        br.refresh()\n",
    "        time.sleep(3)\n",
    "    else:\n",
    "        br.get(URL)\n",
    "    time.sleep(2)\n",
    "    if name == \"TheGuardian\":\n",
    "        js = \"var aa=document.getElementsByClassName('js-site-message')[0];aa.parentNode.removeChild(aa)\"\n",
    "        br.execute_script(js)\n",
    "    ctr = 10\n",
    "    body = br.find_element_by_css_selector('body')\n",
    "    time.sleep(2)\n",
    "    for _ in range(ctr):\n",
    "        try:\n",
    "            body.send_keys(Keys.PAGE_DOWN)\n",
    "        except:\n",
    "            body = br.find_element_by_css_selector('body')\n",
    "            body.click()\n",
    "            body.send_keys(Keys.PAGE_DOWN)\n",
    "        time.sleep(2)\n",
    "    time.sleep(4)\n",
    "    frames = br.find_elements_by_css_selector('iframe[id^=google_ads]')\n",
    "    for i, frame in enumerate(frames):\n",
    "        actions = ActionChains(br)\n",
    "        actions.move_to_element(frame).perform()\n",
    "        time.sleep(2)\n",
    "        br.switch_to.frame(frame)\n",
    "        try:\n",
    "            body = br.find_elements_by_css_selector('body')[0]\n",
    "            os.makedirs('Outputs/{}'.format(user), exist_ok=True)\n",
    "            os.makedirs('Outputs/{}/{}'.format(user, name), exist_ok=True)\n",
    "            body.screenshot('Outputs/{}/{}/{}_{}.png'.format(user, name, name, i+1))\n",
    "        except:\n",
    "            pass\n",
    "        br.switch_to.default_content()"
   ]
  },
  {
   "cell_type": "code",
   "execution_count": null,
   "metadata": {},
   "outputs": [],
   "source": [
    "# login into google\n",
    "def login(br, user, password):\n",
    "    br.get(\"https://accounts.google.com/signin/v2/identifier?hl=en&passive=true&continue=https%3A%2F%2Fwww.google.com%2F%3Fgws_rd%3Dssl&flowName=GlifWebSignIn&flowEntry=ServiceLogin\")\n",
    "    text = br.find_elements_by_css_selector('input[id=identifierId]')\n",
    "    text = text[0]\n",
    "    for letter in user:\n",
    "        text.send_keys(letter)\n",
    "    text.send_keys(Keys.ENTER)\n",
    "    time.sleep(2)\n",
    "    text = br.find_elements_by_css_selector('input[type=password]')\n",
    "    text = text[0]\n",
    "    for letter in password:\n",
    "        text.send_keys(letter)\n",
    "    text.send_keys(Keys.ENTER)"
   ]
  },
  {
   "cell_type": "code",
   "execution_count": null,
   "metadata": {},
   "outputs": [],
   "source": [
    "br = webdriver.Chrome(chromedriver)\n",
    "name = \"\" # user name goes here\n",
    "user = \"\" # user email ID goes here\n",
    "password = \"\" # password goes here\n",
    "login(br, user, password)"
   ]
  },
  {
   "cell_type": "code",
   "execution_count": null,
   "metadata": {
    "scrolled": false
   },
   "outputs": [],
   "source": [
    "time.sleep(2)\n",
    "for key in websites.keys():\n",
    "    fetch_ads(br, user, key, websites[key])"
   ]
  },
  {
   "cell_type": "code",
   "execution_count": null,
   "metadata": {},
   "outputs": [],
   "source": []
  }
 ],
 "metadata": {
  "kernelspec": {
   "display_name": "Python 3",
   "language": "python",
   "name": "python3"
  },
  "language_info": {
   "codemirror_mode": {
    "name": "ipython",
    "version": 3
   },
   "file_extension": ".py",
   "mimetype": "text/x-python",
   "name": "python",
   "nbconvert_exporter": "python",
   "pygments_lexer": "ipython3",
   "version": "3.7.3"
  }
 },
 "nbformat": 4,
 "nbformat_minor": 2
}
